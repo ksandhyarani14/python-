{
 "cells": [
  {
   "cell_type": "code",
   "execution_count": 1,
   "metadata": {},
   "outputs": [
    {
     "name": "stdout",
     "output_type": "stream",
     "text": [
      "result is 41.2\n"
     ]
    }
   ],
   "source": [
    "#(2x+5/x^2+5x+6)\n",
    "x=5\n",
    "y=2*x+5/x**2+5*x+6\n",
    "print(\"result is\",y)"
   ]
  },
  {
   "cell_type": "code",
   "execution_count": 2,
   "metadata": {},
   "outputs": [
    {
     "name": "stdout",
     "output_type": "stream",
     "text": [
      "result is 70.0\n"
     ]
    }
   ],
   "source": [
    "#(x^2+5x+6/2x+5)\n",
    "x=5\n",
    "y=x**2+5*x+6/2*x+5\n",
    "print(\"result is\",y)\n"
   ]
  },
  {
   "cell_type": "code",
   "execution_count": 3,
   "metadata": {},
   "outputs": [
    {
     "name": "stdout",
     "output_type": "stream",
     "text": [
      "result is -28\n"
     ]
    }
   ],
   "source": [
    "#(2x-3)(x-9)\n",
    "x=5\n",
    "y=(2*x-3)*(x-9)\n",
    "print(\"result is\",y)"
   ]
  },
  {
   "cell_type": "code",
   "execution_count": 7,
   "metadata": {},
   "outputs": [
    {
     "name": "stdout",
     "output_type": "stream",
     "text": [
      "Enter correct username and password \n",
      "Enter username: INDIA\n",
      "Enter password: IND\n",
      "congratulation LOGIN successfully\n"
     ]
    }
   ],
   "source": [
    "#create  a username and password login file using nested while loop.\n",
    "print('Enter correct username and password ')\n",
    "count=0\n",
    "if count==4:\n",
    "    print('account has block')\n",
    "while count < 5:\n",
    "    username = input('Enter username: ')\n",
    "    password = input('Enter password: ')\n",
    "    if password=='IND' and username=='INDIA':\n",
    "        print('congratulation LOGIN successfully')\n",
    "        break\n",
    "    else:\n",
    "        print('incorrect password. Try again.')\n",
    "        count +=1\n",
    "    if count==5:\n",
    "     print('Account has temporary block')\n",
    "\n"
   ]
  },
  {
   "cell_type": "code",
   "execution_count": null,
   "metadata": {},
   "outputs": [],
   "source": []
  },
  {
   "cell_type": "code",
   "execution_count": null,
   "metadata": {},
   "outputs": [],
   "source": []
  }
 ],
 "metadata": {
  "kernelspec": {
   "display_name": "Python 3",
   "language": "python",
   "name": "python3"
  },
  "language_info": {
   "codemirror_mode": {
    "name": "ipython",
    "version": 3
   },
   "file_extension": ".py",
   "mimetype": "text/x-python",
   "name": "python",
   "nbconvert_exporter": "python",
   "pygments_lexer": "ipython3",
   "version": "3.7.3"
  }
 },
 "nbformat": 4,
 "nbformat_minor": 4
}
